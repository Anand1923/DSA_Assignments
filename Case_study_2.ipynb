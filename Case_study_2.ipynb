{
  "nbformat": 4,
  "nbformat_minor": 0,
  "metadata": {
    "colab": {
      "name": "Case study 2.ipynb",
      "provenance": [],
      "collapsed_sections": [],
      "authorship_tag": "ABX9TyMDZ4q7uB9WVX2L7K2UXH8f",
      "include_colab_link": true
    },
    "kernelspec": {
      "name": "python3",
      "display_name": "Python 3"
    },
    "language_info": {
      "name": "python"
    }
  },
  "cells": [
    {
      "cell_type": "markdown",
      "metadata": {
        "id": "view-in-github",
        "colab_type": "text"
      },
      "source": [
        "<a href=\"https://colab.research.google.com/github/Anand1923/DSA_Assignments/blob/main/Case_study_2.ipynb\" target=\"_parent\"><img src=\"https://colab.research.google.com/assets/colab-badge.svg\" alt=\"Open In Colab\"/></a>"
      ]
    },
    {
      "cell_type": "code",
      "metadata": {
        "id": "Grn6XzH0gkIk"
      },
      "source": [
        ""
      ],
      "execution_count": null,
      "outputs": []
    },
    {
      "cell_type": "code",
      "metadata": {
        "colab": {
          "base_uri": "https://localhost:8080/"
        },
        "id": "t7WCL9FPgn-h",
        "outputId": "5df867bc-f8ba-4a78-fe53-6807f7224146"
      },
      "source": [
        "from google.colab import drive\n",
        "drive.mount('/content/drive')"
      ],
      "execution_count": null,
      "outputs": [
        {
          "output_type": "stream",
          "name": "stdout",
          "text": [
            "Mounted at /content/drive\n"
          ]
        }
      ]
    },
    {
      "cell_type": "code",
      "metadata": {
        "id": "R1Jr1pzdjS-z"
      },
      "source": [
        "import pandas as pd\n",
        "import collections  as cs\n",
        "import matplotlib.pyplot as plt\n",
        "import numpy as np\n"
      ],
      "execution_count": null,
      "outputs": []
    },
    {
      "cell_type": "code",
      "metadata": {
        "id": "naYisLIksaIr"
      },
      "source": [
        ""
      ],
      "execution_count": null,
      "outputs": []
    },
    {
      "cell_type": "markdown",
      "metadata": {
        "id": "8427X_ZWqNSW"
      },
      "source": [
        "**Import Dataset**"
      ]
    },
    {
      "cell_type": "code",
      "metadata": {
        "colab": {
          "base_uri": "https://localhost:8080/",
          "height": 424
        },
        "id": "UANQzvGejomS",
        "outputId": "42f13800-1239-4a97-e168-3b94eaf8f5ac"
      },
      "source": [
        "data=pd.read_excel('/content/drive/MyDrive/Colab Notebooks/Case study 2-StudentsPerformance_056e7b1df6aab888d4b13b23f45079ef.xlsx')\n",
        "data"
      ],
      "execution_count": null,
      "outputs": [
        {
          "output_type": "execute_result",
          "data": {
            "text/html": [
              "<div>\n",
              "<style scoped>\n",
              "    .dataframe tbody tr th:only-of-type {\n",
              "        vertical-align: middle;\n",
              "    }\n",
              "\n",
              "    .dataframe tbody tr th {\n",
              "        vertical-align: top;\n",
              "    }\n",
              "\n",
              "    .dataframe thead th {\n",
              "        text-align: right;\n",
              "    }\n",
              "</style>\n",
              "<table border=\"1\" class=\"dataframe\">\n",
              "  <thead>\n",
              "    <tr style=\"text-align: right;\">\n",
              "      <th></th>\n",
              "      <th>gender</th>\n",
              "      <th>race/ethnicity</th>\n",
              "      <th>parental level of education</th>\n",
              "      <th>lunch</th>\n",
              "      <th>test preparation course</th>\n",
              "      <th>math score</th>\n",
              "      <th>reading score</th>\n",
              "      <th>writing score</th>\n",
              "    </tr>\n",
              "  </thead>\n",
              "  <tbody>\n",
              "    <tr>\n",
              "      <th>0</th>\n",
              "      <td>female</td>\n",
              "      <td>group C</td>\n",
              "      <td>some high school</td>\n",
              "      <td>free/reduced</td>\n",
              "      <td>none</td>\n",
              "      <td>0</td>\n",
              "      <td>17</td>\n",
              "      <td>10</td>\n",
              "    </tr>\n",
              "    <tr>\n",
              "      <th>1</th>\n",
              "      <td>female</td>\n",
              "      <td>group B</td>\n",
              "      <td>high school</td>\n",
              "      <td>free/reduced</td>\n",
              "      <td>none</td>\n",
              "      <td>8</td>\n",
              "      <td>24</td>\n",
              "      <td>23</td>\n",
              "    </tr>\n",
              "    <tr>\n",
              "      <th>2</th>\n",
              "      <td>female</td>\n",
              "      <td>group B</td>\n",
              "      <td>some high school</td>\n",
              "      <td>free/reduced</td>\n",
              "      <td>none</td>\n",
              "      <td>18</td>\n",
              "      <td>32</td>\n",
              "      <td>28</td>\n",
              "    </tr>\n",
              "    <tr>\n",
              "      <th>3</th>\n",
              "      <td>female</td>\n",
              "      <td>group B</td>\n",
              "      <td>some college</td>\n",
              "      <td>standard</td>\n",
              "      <td>none</td>\n",
              "      <td>11</td>\n",
              "      <td>38</td>\n",
              "      <td>32</td>\n",
              "    </tr>\n",
              "    <tr>\n",
              "      <th>4</th>\n",
              "      <td>female</td>\n",
              "      <td>group C</td>\n",
              "      <td>some college</td>\n",
              "      <td>free/reduced</td>\n",
              "      <td>none</td>\n",
              "      <td>22</td>\n",
              "      <td>39</td>\n",
              "      <td>33</td>\n",
              "    </tr>\n",
              "    <tr>\n",
              "      <th>...</th>\n",
              "      <td>...</td>\n",
              "      <td>...</td>\n",
              "      <td>...</td>\n",
              "      <td>...</td>\n",
              "      <td>...</td>\n",
              "      <td>...</td>\n",
              "      <td>...</td>\n",
              "      <td>...</td>\n",
              "    </tr>\n",
              "    <tr>\n",
              "      <th>995</th>\n",
              "      <td>male</td>\n",
              "      <td>group E</td>\n",
              "      <td>some college</td>\n",
              "      <td>standard</td>\n",
              "      <td>completed</td>\n",
              "      <td>99</td>\n",
              "      <td>87</td>\n",
              "      <td>81</td>\n",
              "    </tr>\n",
              "    <tr>\n",
              "      <th>996</th>\n",
              "      <td>male</td>\n",
              "      <td>group A</td>\n",
              "      <td>some college</td>\n",
              "      <td>standard</td>\n",
              "      <td>completed</td>\n",
              "      <td>100</td>\n",
              "      <td>96</td>\n",
              "      <td>86</td>\n",
              "    </tr>\n",
              "    <tr>\n",
              "      <th>997</th>\n",
              "      <td>male</td>\n",
              "      <td>group D</td>\n",
              "      <td>some college</td>\n",
              "      <td>standard</td>\n",
              "      <td>completed</td>\n",
              "      <td>100</td>\n",
              "      <td>97</td>\n",
              "      <td>99</td>\n",
              "    </tr>\n",
              "    <tr>\n",
              "      <th>998</th>\n",
              "      <td>male</td>\n",
              "      <td>group E</td>\n",
              "      <td>associate's degree</td>\n",
              "      <td>free/reduced</td>\n",
              "      <td>completed</td>\n",
              "      <td>100</td>\n",
              "      <td>100</td>\n",
              "      <td>93</td>\n",
              "    </tr>\n",
              "    <tr>\n",
              "      <th>999</th>\n",
              "      <td>male</td>\n",
              "      <td>group E</td>\n",
              "      <td>bachelor's degree</td>\n",
              "      <td>standard</td>\n",
              "      <td>completed</td>\n",
              "      <td>100</td>\n",
              "      <td>100</td>\n",
              "      <td>100</td>\n",
              "    </tr>\n",
              "  </tbody>\n",
              "</table>\n",
              "<p>1000 rows × 8 columns</p>\n",
              "</div>"
            ],
            "text/plain": [
              "     gender race/ethnicity  ... reading score writing score\n",
              "0    female        group C  ...            17            10\n",
              "1    female        group B  ...            24            23\n",
              "2    female        group B  ...            32            28\n",
              "3    female        group B  ...            38            32\n",
              "4    female        group C  ...            39            33\n",
              "..      ...            ...  ...           ...           ...\n",
              "995    male        group E  ...            87            81\n",
              "996    male        group A  ...            96            86\n",
              "997    male        group D  ...            97            99\n",
              "998    male        group E  ...           100            93\n",
              "999    male        group E  ...           100           100\n",
              "\n",
              "[1000 rows x 8 columns]"
            ]
          },
          "metadata": {},
          "execution_count": 5
        }
      ]
    },
    {
      "cell_type": "markdown",
      "metadata": {
        "id": "ooV6O2edqXnX"
      },
      "source": [
        "**Q1 .Count based on gender**\n",
        "\n",
        "Here groupby is used to caluclate count for each gender\n",
        "\n",
        "since there is no heading as count ...renamed lunch to count\n"
      ]
    },
    {
      "cell_type": "code",
      "metadata": {
        "colab": {
          "base_uri": "https://localhost:8080/",
          "height": 112
        },
        "id": "H7nIW2Emj6pF",
        "outputId": "4fa82f6b-dcea-41c7-9678-af282bc612e8"
      },
      "source": [
        "data1=data.groupby(['gender'])['lunch'].count().reset_index()\n",
        "data1.rename(columns={'lunch':'Count'})\n"
      ],
      "execution_count": null,
      "outputs": [
        {
          "output_type": "execute_result",
          "data": {
            "text/html": [
              "<div>\n",
              "<style scoped>\n",
              "    .dataframe tbody tr th:only-of-type {\n",
              "        vertical-align: middle;\n",
              "    }\n",
              "\n",
              "    .dataframe tbody tr th {\n",
              "        vertical-align: top;\n",
              "    }\n",
              "\n",
              "    .dataframe thead th {\n",
              "        text-align: right;\n",
              "    }\n",
              "</style>\n",
              "<table border=\"1\" class=\"dataframe\">\n",
              "  <thead>\n",
              "    <tr style=\"text-align: right;\">\n",
              "      <th></th>\n",
              "      <th>gender</th>\n",
              "      <th>Count</th>\n",
              "    </tr>\n",
              "  </thead>\n",
              "  <tbody>\n",
              "    <tr>\n",
              "      <th>0</th>\n",
              "      <td>female</td>\n",
              "      <td>518</td>\n",
              "    </tr>\n",
              "    <tr>\n",
              "      <th>1</th>\n",
              "      <td>male</td>\n",
              "      <td>482</td>\n",
              "    </tr>\n",
              "  </tbody>\n",
              "</table>\n",
              "</div>"
            ],
            "text/plain": [
              "   gender  Count\n",
              "0  female    518\n",
              "1    male    482"
            ]
          },
          "metadata": {},
          "execution_count": 4
        }
      ]
    },
    {
      "cell_type": "markdown",
      "metadata": {
        "id": "P3LZHXUwrJ9D"
      },
      "source": [
        "**Q2.Parental level of education**\n",
        "\n",
        "Getting count of each values"
      ]
    },
    {
      "cell_type": "code",
      "metadata": {
        "colab": {
          "base_uri": "https://localhost:8080/"
        },
        "id": "baYOyvjZrOl5",
        "outputId": "30ae2ad9-dbf7-4b54-ebea-582238d845fc"
      },
      "source": [
        "c=data['parental level of education']\n",
        "d=cs.Counter(c)\n",
        "d.most_common()\n",
        "\n"
      ],
      "execution_count": null,
      "outputs": [
        {
          "output_type": "execute_result",
          "data": {
            "text/plain": [
              "[('some college', 226),\n",
              " (\"associate's degree\", 222),\n",
              " ('high school', 196),\n",
              " ('some high school', 179),\n",
              " (\"bachelor's degree\", 118),\n",
              " (\"master's degree\", 59)]"
            ]
          },
          "metadata": {},
          "execution_count": 5
        }
      ]
    },
    {
      "cell_type": "markdown",
      "metadata": {
        "id": "d1iFw-j10HJh"
      },
      "source": [
        "Creating a new table which represents the count  and can be used to prepare  char"
      ]
    },
    {
      "cell_type": "code",
      "metadata": {
        "colab": {
          "base_uri": "https://localhost:8080/",
          "height": 238
        },
        "id": "t3-YFHdhtMZp",
        "outputId": "8cedc3cb-9d5f-475a-910d-d26eeb0ac114"
      },
      "source": [
        "pie=pd.DataFrame()\n",
        "pie['Count']=data['parental level of education'].value_counts()\n",
        "pie['math score']=data.groupby('parental level of education')['math score'].mean()\n",
        "pie['reading score']=data.groupby('parental level of education')['reading score'].mean()\n",
        "pie['writing score']=data.groupby('parental level of education')['writing score'].mean()\n",
        "pie=pie.reset_index()\n",
        "pie.rename(columns={'index':'Parental level education'},inplace=True)\n",
        "pie\n"
      ],
      "execution_count": null,
      "outputs": [
        {
          "output_type": "execute_result",
          "data": {
            "text/html": [
              "<div>\n",
              "<style scoped>\n",
              "    .dataframe tbody tr th:only-of-type {\n",
              "        vertical-align: middle;\n",
              "    }\n",
              "\n",
              "    .dataframe tbody tr th {\n",
              "        vertical-align: top;\n",
              "    }\n",
              "\n",
              "    .dataframe thead th {\n",
              "        text-align: right;\n",
              "    }\n",
              "</style>\n",
              "<table border=\"1\" class=\"dataframe\">\n",
              "  <thead>\n",
              "    <tr style=\"text-align: right;\">\n",
              "      <th></th>\n",
              "      <th>Parental level education</th>\n",
              "      <th>Count</th>\n",
              "      <th>math score</th>\n",
              "      <th>reading score</th>\n",
              "      <th>writing score</th>\n",
              "    </tr>\n",
              "  </thead>\n",
              "  <tbody>\n",
              "    <tr>\n",
              "      <th>0</th>\n",
              "      <td>some college</td>\n",
              "      <td>226</td>\n",
              "      <td>67.128319</td>\n",
              "      <td>69.566372</td>\n",
              "      <td>69.035398</td>\n",
              "    </tr>\n",
              "    <tr>\n",
              "      <th>1</th>\n",
              "      <td>associate's degree</td>\n",
              "      <td>222</td>\n",
              "      <td>67.977477</td>\n",
              "      <td>71.018018</td>\n",
              "      <td>70.031532</td>\n",
              "    </tr>\n",
              "    <tr>\n",
              "      <th>2</th>\n",
              "      <td>high school</td>\n",
              "      <td>196</td>\n",
              "      <td>61.821429</td>\n",
              "      <td>64.602041</td>\n",
              "      <td>62.403061</td>\n",
              "    </tr>\n",
              "    <tr>\n",
              "      <th>3</th>\n",
              "      <td>some high school</td>\n",
              "      <td>179</td>\n",
              "      <td>63.134078</td>\n",
              "      <td>66.759777</td>\n",
              "      <td>64.888268</td>\n",
              "    </tr>\n",
              "    <tr>\n",
              "      <th>4</th>\n",
              "      <td>bachelor's degree</td>\n",
              "      <td>118</td>\n",
              "      <td>69.288136</td>\n",
              "      <td>73.000000</td>\n",
              "      <td>73.381356</td>\n",
              "    </tr>\n",
              "    <tr>\n",
              "      <th>5</th>\n",
              "      <td>master's degree</td>\n",
              "      <td>59</td>\n",
              "      <td>70.254237</td>\n",
              "      <td>75.949153</td>\n",
              "      <td>75.677966</td>\n",
              "    </tr>\n",
              "  </tbody>\n",
              "</table>\n",
              "</div>"
            ],
            "text/plain": [
              "  Parental level education  Count  math score  reading score  writing score\n",
              "0             some college    226   67.128319      69.566372      69.035398\n",
              "1       associate's degree    222   67.977477      71.018018      70.031532\n",
              "2              high school    196   61.821429      64.602041      62.403061\n",
              "3         some high school    179   63.134078      66.759777      64.888268\n",
              "4        bachelor's degree    118   69.288136      73.000000      73.381356\n",
              "5          master's degree     59   70.254237      75.949153      75.677966"
            ]
          },
          "metadata": {},
          "execution_count": 6
        }
      ]
    },
    {
      "cell_type": "markdown",
      "metadata": {
        "id": "DOMrXC1X0YZC"
      },
      "source": [
        "##Data shows Most of the parents have attended college . "
      ]
    },
    {
      "cell_type": "markdown",
      "metadata": {
        "id": "1M3ixVg90P3H"
      },
      "source": [
        "Creating a Pie chart"
      ]
    },
    {
      "cell_type": "code",
      "metadata": {
        "colab": {
          "base_uri": "https://localhost:8080/",
          "height": 479
        },
        "id": "fPjjskJzy5x4",
        "outputId": "de856fa9-6f42-49bb-8d78-ef31b23b5471"
      },
      "source": [
        "fig = plt.figure(figsize=[8,6])\n",
        "#setting axes\n",
        "ax = fig.add_axes([0, 0, 1, 1])\n",
        "ax.set_title('Parental level of education')\n",
        "#plotting pie chart\n",
        "ax.pie(pie['Count'], labels=pie['Parental level education'],autopct='%0.1f%%',\n",
        "        startangle = 250\n",
        "        )\n",
        "fig.show()"
      ],
      "execution_count": null,
      "outputs": [
        {
          "output_type": "display_data",
          "data": {
            "image/png": "[encoded data removed]",
            "text/plain": [
              "<Figure size 576x432 with 1 Axes>"
            ]
          },
          "metadata": {}
        }
      ]
    },
    {
      "cell_type": "markdown",
      "metadata": {
        "id": "qVelRDUQ0x0n"
      },
      "source": [
        "##33.9% of the parents are degree holders"
      ]
    },
    {
      "cell_type": "code",
      "metadata": {
        "colab": {
          "base_uri": "https://localhost:8080/",
          "height": 592
        },
        "id": "PezGLeOz32-j",
        "outputId": "3b86aa26-3340-4f93-9111-93eedc2f9024"
      },
      "source": [
        "fig = plt.figure(figsize=[12,10])\n",
        "x_axis=np.arange(len(pie['Parental level education']))\n",
        "\n",
        "plt.bar(x_axis-0.2,pie['math score'], width=0.4, label = 'Match Score AVG')\n",
        "plt.bar(x_axis,pie['writing score'], width=0.4, label = 'Writing Score AVG')\n",
        "plt.bar(x_axis+0.2,pie['reading score'],width=0.4,label='Reading score AVG')\n",
        "plt.xticks(x_axis,pie['Parental level education'] )\n",
        "plt.legend()\n",
        "fig.show()\n"
      ],
      "execution_count": null,
      "outputs": [
        {
          "output_type": "display_data",
          "data": {
            "image/png": "[encoded data removed]",
            "text/plain": [
              "<Figure size 864x720 with 1 Axes>"
            ]
          },
          "metadata": {
            "needs_background": "light"
          }
        }
      ]
    },
    {
      "cell_type": "markdown",
      "metadata": {
        "id": "W06-hfMR6EXL"
      },
      "source": [
        "##Figure clearly shows that childrens whose parents are educated are scoring better then other comparativly."
      ]
    },
    {
      "cell_type": "markdown",
      "metadata": {
        "id": "RWXNpuagdvfx"
      },
      "source": [
        "**Q3. Who scores most based on gender and test prep**"
      ]
    },
    {
      "cell_type": "code",
      "metadata": {
        "colab": {
          "base_uri": "https://localhost:8080/"
        },
        "id": "RGUw_bpzd1eQ",
        "outputId": "017fd3df-926e-4cb6-afa8-3ca7e177bd91"
      },
      "source": [
        "gender=data.groupby('gender').mean()[['math score','writing score','reading score']]\n",
        "\n",
        "test_prep=data.groupby('test preparation course').mean()[['math score','writing score','reading score']]\n",
        "print(gender)\n",
        "print(test_prep)\n"
      ],
      "execution_count": null,
      "outputs": [
        {
          "output_type": "stream",
          "name": "stdout",
          "text": [
            "        math score  writing score  reading score\n",
            "gender                                          \n",
            "female   63.376448      72.467181      72.590734\n",
            "male     68.821577      63.446058      65.545643\n",
            "                         math score  writing score  reading score\n",
            "test preparation course                                          \n",
            "completed                  69.96648      74.684358      74.175978\n",
            "none                       63.78972      64.457944      66.417445\n"
          ]
        }
      ]
    },
    {
      "cell_type": "markdown",
      "metadata": {
        "id": "cDUxuApcgdP9"
      },
      "source": [
        "## from above table we could analyze that females are scoring good in reading and writing but lagging bit in math.\n",
        "## Avg score based on test prep course, clearly shows that students who participated in prep test scored high."
      ]
    },
    {
      "cell_type": "markdown",
      "metadata": {
        "id": "x6ZHbEVv7gCy"
      },
      "source": [
        "**Q4. What do you think about the scoring variation for math, reading and writing\n",
        "based on**"
      ]
    },
    {
      "cell_type": "code",
      "metadata": {
        "colab": {
          "base_uri": "https://localhost:8080/"
        },
        "id": "eazu_WBK7mt3",
        "outputId": "9c422b0c-4bc0-4bc1-c909-e10c18634f6a"
      },
      "source": [
        "gender1=data.groupby('gender').var()[['math score','writing score','reading score']]\n",
        "test_prep1=data.groupby('test preparation course').mean()[['math score','writing score','reading score']]\n",
        "\n",
        "print(gender1)\n",
        "\n",
        "print(test_prep1)\n"
      ],
      "execution_count": null,
      "outputs": [
        {
          "output_type": "stream",
          "name": "stdout",
          "text": [
            "        math score  writing score  reading score\n",
            "gender                                          \n",
            "female  256.958593     220.369327     207.677438\n",
            "male    211.889097     202.413924     200.211010\n",
            "                         math score  writing score  reading score\n",
            "test preparation course                                          \n",
            "completed                  69.96648      74.684358      74.175978\n",
            "none                       63.78972      64.457944      66.417445\n"
          ]
        }
      ]
    },
    {
      "cell_type": "markdown",
      "metadata": {
        "id": "CKu4bEFx_lmZ"
      },
      "source": [
        "based on variance for math score .We can see that female students have a huge deviation in their scoring pattern for maths.\n",
        "\n"
      ]
    },
    {
      "cell_type": "markdown",
      "metadata": {
        "id": "0vHjzqEL9phh"
      },
      "source": [
        "**Q5.Give bonus points to the top 25% of\n",
        "students based on their maths score**\n",
        "\n",
        "\n"
      ]
    },
    {
      "cell_type": "code",
      "metadata": {
        "colab": {
          "base_uri": "https://localhost:8080/"
        },
        "id": "WvEHEquc9wgY",
        "outputId": "5b9daba8-ab3d-4bf9-8414-52ce950393bf"
      },
      "source": [
        "np.percentile(data['math score'],75)"
      ],
      "execution_count": null,
      "outputs": [
        {
          "output_type": "execute_result",
          "data": {
            "text/plain": [
              "77.0"
            ]
          },
          "metadata": {},
          "execution_count": 11
        }
      ]
    },
    {
      "cell_type": "code",
      "metadata": {
        "colab": {
          "base_uri": "https://localhost:8080/",
          "height": 424
        },
        "id": "PH1ygKE6-IBQ",
        "outputId": "aec40d0b-c446-4a94-80b8-5819be78f7f1"
      },
      "source": [
        "data[data['math score']>77.0]"
      ],
      "execution_count": null,
      "outputs": [
        {
          "output_type": "execute_result",
          "data": {
            "text/html": [
              "<div>\n",
              "<style scoped>\n",
              "    .dataframe tbody tr th:only-of-type {\n",
              "        vertical-align: middle;\n",
              "    }\n",
              "\n",
              "    .dataframe tbody tr th {\n",
              "        vertical-align: top;\n",
              "    }\n",
              "\n",
              "    .dataframe thead th {\n",
              "        text-align: right;\n",
              "    }\n",
              "</style>\n",
              "<table border=\"1\" class=\"dataframe\">\n",
              "  <thead>\n",
              "    <tr style=\"text-align: right;\">\n",
              "      <th></th>\n",
              "      <th>gender</th>\n",
              "      <th>race/ethnicity</th>\n",
              "      <th>parental level of education</th>\n",
              "      <th>lunch</th>\n",
              "      <th>test preparation course</th>\n",
              "      <th>math score</th>\n",
              "      <th>reading score</th>\n",
              "      <th>writing score</th>\n",
              "    </tr>\n",
              "  </thead>\n",
              "  <tbody>\n",
              "    <tr>\n",
              "      <th>430</th>\n",
              "      <td>female</td>\n",
              "      <td>group A</td>\n",
              "      <td>some college</td>\n",
              "      <td>standard</td>\n",
              "      <td>completed</td>\n",
              "      <td>78</td>\n",
              "      <td>87</td>\n",
              "      <td>91</td>\n",
              "    </tr>\n",
              "    <tr>\n",
              "      <th>431</th>\n",
              "      <td>female</td>\n",
              "      <td>group B</td>\n",
              "      <td>bachelor's degree</td>\n",
              "      <td>free/reduced</td>\n",
              "      <td>none</td>\n",
              "      <td>78</td>\n",
              "      <td>79</td>\n",
              "      <td>76</td>\n",
              "    </tr>\n",
              "    <tr>\n",
              "      <th>432</th>\n",
              "      <td>female</td>\n",
              "      <td>group D</td>\n",
              "      <td>bachelor's degree</td>\n",
              "      <td>standard</td>\n",
              "      <td>none</td>\n",
              "      <td>78</td>\n",
              "      <td>82</td>\n",
              "      <td>79</td>\n",
              "    </tr>\n",
              "    <tr>\n",
              "      <th>433</th>\n",
              "      <td>female</td>\n",
              "      <td>group D</td>\n",
              "      <td>high school</td>\n",
              "      <td>standard</td>\n",
              "      <td>none</td>\n",
              "      <td>78</td>\n",
              "      <td>81</td>\n",
              "      <td>80</td>\n",
              "    </tr>\n",
              "    <tr>\n",
              "      <th>434</th>\n",
              "      <td>female</td>\n",
              "      <td>group D</td>\n",
              "      <td>bachelor's degree</td>\n",
              "      <td>free/reduced</td>\n",
              "      <td>none</td>\n",
              "      <td>78</td>\n",
              "      <td>90</td>\n",
              "      <td>93</td>\n",
              "    </tr>\n",
              "    <tr>\n",
              "      <th>...</th>\n",
              "      <td>...</td>\n",
              "      <td>...</td>\n",
              "      <td>...</td>\n",
              "      <td>...</td>\n",
              "      <td>...</td>\n",
              "      <td>...</td>\n",
              "      <td>...</td>\n",
              "      <td>...</td>\n",
              "    </tr>\n",
              "    <tr>\n",
              "      <th>995</th>\n",
              "      <td>male</td>\n",
              "      <td>group E</td>\n",
              "      <td>some college</td>\n",
              "      <td>standard</td>\n",
              "      <td>completed</td>\n",
              "      <td>99</td>\n",
              "      <td>87</td>\n",
              "      <td>81</td>\n",
              "    </tr>\n",
              "    <tr>\n",
              "      <th>996</th>\n",
              "      <td>male</td>\n",
              "      <td>group A</td>\n",
              "      <td>some college</td>\n",
              "      <td>standard</td>\n",
              "      <td>completed</td>\n",
              "      <td>100</td>\n",
              "      <td>96</td>\n",
              "      <td>86</td>\n",
              "    </tr>\n",
              "    <tr>\n",
              "      <th>997</th>\n",
              "      <td>male</td>\n",
              "      <td>group D</td>\n",
              "      <td>some college</td>\n",
              "      <td>standard</td>\n",
              "      <td>completed</td>\n",
              "      <td>100</td>\n",
              "      <td>97</td>\n",
              "      <td>99</td>\n",
              "    </tr>\n",
              "    <tr>\n",
              "      <th>998</th>\n",
              "      <td>male</td>\n",
              "      <td>group E</td>\n",
              "      <td>associate's degree</td>\n",
              "      <td>free/reduced</td>\n",
              "      <td>completed</td>\n",
              "      <td>100</td>\n",
              "      <td>100</td>\n",
              "      <td>93</td>\n",
              "    </tr>\n",
              "    <tr>\n",
              "      <th>999</th>\n",
              "      <td>male</td>\n",
              "      <td>group E</td>\n",
              "      <td>bachelor's degree</td>\n",
              "      <td>standard</td>\n",
              "      <td>completed</td>\n",
              "      <td>100</td>\n",
              "      <td>100</td>\n",
              "      <td>100</td>\n",
              "    </tr>\n",
              "  </tbody>\n",
              "</table>\n",
              "<p>231 rows × 8 columns</p>\n",
              "</div>"
            ],
            "text/plain": [
              "     gender race/ethnicity  ... reading score writing score\n",
              "430  female        group A  ...            87            91\n",
              "431  female        group B  ...            79            76\n",
              "432  female        group D  ...            82            79\n",
              "433  female        group D  ...            81            80\n",
              "434  female        group D  ...            90            93\n",
              "..      ...            ...  ...           ...           ...\n",
              "995    male        group E  ...            87            81\n",
              "996    male        group A  ...            96            86\n",
              "997    male        group D  ...            97            99\n",
              "998    male        group E  ...           100            93\n",
              "999    male        group E  ...           100           100\n",
              "\n",
              "[231 rows x 8 columns]"
            ]
          },
          "metadata": {},
          "execution_count": 12
        }
      ]
    },
    {
      "cell_type": "markdown",
      "metadata": {
        "id": "2rAXNoWh-zqj"
      },
      "source": [
        "We have 231 students who falls under category of scoring more than 75% in maths."
      ]
    },
    {
      "cell_type": "code",
      "metadata": {
        "id": "GsjOUiM--yfI"
      },
      "source": [
        ""
      ],
      "execution_count": null,
      "outputs": []
    }
  ]
}