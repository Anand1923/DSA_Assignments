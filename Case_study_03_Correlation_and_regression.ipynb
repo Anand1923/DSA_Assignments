{
  "nbformat": 4,
  "nbformat_minor": 0,
  "metadata": {
    "colab": {
      "name": "Case_study_03_Correlation_and_regression.ipynb",
      "provenance": [],
      "collapsed_sections": [],
      "include_colab_link": true
    },
    "kernelspec": {
      "name": "python3",
      "display_name": "Python 3"
    },
    "language_info": {
      "name": "python"
    }
  },
  "cells": [
    {
      "cell_type": "markdown",
      "metadata": {
        "id": "view-in-github",
        "colab_type": "text"
      },
      "source": [
        "<a href=\"https://colab.research.google.com/github/Anand1923/DSA_Assignments/blob/main/Case_study_03_Correlation_and_regression.ipynb\" target=\"_parent\"><img src=\"https://colab.research.google.com/assets/colab-badge.svg\" alt=\"Open In Colab\"/></a>"
      ]
    },
    {
      "cell_type": "markdown",
      "metadata": {
        "id": "xTuM3VdKHOIE"
      },
      "source": [
        "**Case Study on Correlation and Regression**\n",
        "A textile company regularly spent money on five advertising companies for their ads. (Dataset added along with)"
      ]
    },
    {
      "cell_type": "code",
      "metadata": {
        "id": "uxTRE0A6GfHt"
      },
      "source": [
        "import pandas as pd\n",
        "import numpy as np\n",
        "import matplotlib.pyplot as plt\n",
        "import sklearn\n",
        "import seaborn as sns"
      ],
      "execution_count": null,
      "outputs": []
    },
    {
      "cell_type": "code",
      "metadata": {
        "id": "zf51GTtjGzvW"
      },
      "source": [
        "data = pd.read_csv(\"Add_sales_data_2018.csv\")"
      ],
      "execution_count": null,
      "outputs": []
    },
    {
      "cell_type": "code",
      "metadata": {
        "colab": {
          "base_uri": "https://localhost:8080/"
        },
        "id": "qCZbg9V6HrN_",
        "outputId": "99636270-a1c7-4d5d-d677-53ef420d8a9c"
      },
      "source": [
        "\n",
        "data.info()"
      ],
      "execution_count": null,
      "outputs": [
        {
          "output_type": "stream",
          "name": "stdout",
          "text": [
            "<class 'pandas.core.frame.DataFrame'>\n",
            "RangeIndex: 205 entries, 0 to 204\n",
            "Data columns (total 7 columns):\n",
            " #   Column                Non-Null Count  Dtype  \n",
            "---  ------                --------------  -----  \n",
            " 0   Date                  205 non-null    object \n",
            " 1   Add1(in Thousands)    205 non-null    float64\n",
            " 2   Add2(in Thousands)    205 non-null    float64\n",
            " 3   Add3(in Thousands)    205 non-null    float64\n",
            " 4   Add4(in Thousands)    205 non-null    float64\n",
            " 5   Add5(in Thousands)    205 non-null    float64\n",
            " 6   Profit(in Thousands)  205 non-null    float64\n",
            "dtypes: float64(6), object(1)\n",
            "memory usage: 11.3+ KB\n"
          ]
        }
      ]
    },
    {
      "cell_type": "code",
      "metadata": {
        "colab": {
          "base_uri": "https://localhost:8080/",
          "height": 206
        },
        "id": "pjZ1Y480HyuJ",
        "outputId": "630fd741-732d-4c6f-9c2e-002a5b0e3a57"
      },
      "source": [
        "data.head()"
      ],
      "execution_count": null,
      "outputs": [
        {
          "output_type": "execute_result",
          "data": {
            "text/html": [
              "<div>\n",
              "<style scoped>\n",
              "    .dataframe tbody tr th:only-of-type {\n",
              "        vertical-align: middle;\n",
              "    }\n",
              "\n",
              "    .dataframe tbody tr th {\n",
              "        vertical-align: top;\n",
              "    }\n",
              "\n",
              "    .dataframe thead th {\n",
              "        text-align: right;\n",
              "    }\n",
              "</style>\n",
              "<table border=\"1\" class=\"dataframe\">\n",
              "  <thead>\n",
              "    <tr style=\"text-align: right;\">\n",
              "      <th></th>\n",
              "      <th>Date</th>\n",
              "      <th>Add1(in Thousands)</th>\n",
              "      <th>Add2(in Thousands)</th>\n",
              "      <th>Add3(in Thousands)</th>\n",
              "      <th>Add4(in Thousands)</th>\n",
              "      <th>Add5(in Thousands)</th>\n",
              "      <th>Profit(in Thousands)</th>\n",
              "    </tr>\n",
              "  </thead>\n",
              "  <tbody>\n",
              "    <tr>\n",
              "      <th>0</th>\n",
              "      <td>2018-10-08</td>\n",
              "      <td>208.00</td>\n",
              "      <td>222.25</td>\n",
              "      <td>206.85</td>\n",
              "      <td>216.00</td>\n",
              "      <td>215.15</td>\n",
              "      <td>4093.065</td>\n",
              "    </tr>\n",
              "    <tr>\n",
              "      <th>1</th>\n",
              "      <td>2018-10-05</td>\n",
              "      <td>217.00</td>\n",
              "      <td>218.60</td>\n",
              "      <td>205.90</td>\n",
              "      <td>210.25</td>\n",
              "      <td>209.20</td>\n",
              "      <td>4042.448</td>\n",
              "    </tr>\n",
              "    <tr>\n",
              "      <th>2</th>\n",
              "      <td>2018-10-04</td>\n",
              "      <td>223.50</td>\n",
              "      <td>227.80</td>\n",
              "      <td>216.15</td>\n",
              "      <td>217.25</td>\n",
              "      <td>218.20</td>\n",
              "      <td>4213.819</td>\n",
              "    </tr>\n",
              "    <tr>\n",
              "      <th>3</th>\n",
              "      <td>2018-10-03</td>\n",
              "      <td>230.00</td>\n",
              "      <td>237.50</td>\n",
              "      <td>225.75</td>\n",
              "      <td>226.45</td>\n",
              "      <td>227.60</td>\n",
              "      <td>4391.665</td>\n",
              "    </tr>\n",
              "    <tr>\n",
              "      <th>4</th>\n",
              "      <td>2018-10-01</td>\n",
              "      <td>234.55</td>\n",
              "      <td>234.60</td>\n",
              "      <td>221.05</td>\n",
              "      <td>230.30</td>\n",
              "      <td>230.90</td>\n",
              "      <td>4350.683</td>\n",
              "    </tr>\n",
              "  </tbody>\n",
              "</table>\n",
              "</div>"
            ],
            "text/plain": [
              "         Date  Add1(in Thousands)  ...  Add5(in Thousands)  Profit(in Thousands)\n",
              "0  2018-10-08              208.00  ...              215.15              4093.065\n",
              "1  2018-10-05              217.00  ...              209.20              4042.448\n",
              "2  2018-10-04              223.50  ...              218.20              4213.819\n",
              "3  2018-10-03              230.00  ...              227.60              4391.665\n",
              "4  2018-10-01              234.55  ...              230.90              4350.683\n",
              "\n",
              "[5 rows x 7 columns]"
            ]
          },
          "metadata": {},
          "execution_count": 6
        }
      ]
    },
    {
      "cell_type": "code",
      "metadata": {
        "id": "Vy2mpFGVJJ7g"
      },
      "source": [
        "#Feature dtae is not contributing to the model hence we can drop\n",
        "data1 = data.drop([\"Date\"] , axis =1)"
      ],
      "execution_count": null,
      "outputs": []
    },
    {
      "cell_type": "code",
      "metadata": {
        "id": "FzOIUbupJgZy"
      },
      "source": [
        "#Renaming the columns\n",
        "col = data1.columns\n",
        "for i in col:\n",
        "  new_name = i.replace(\" \", \"_\")\n",
        "  data1.rename(columns = {i:new_name} , inplace = True)"
      ],
      "execution_count": null,
      "outputs": []
    },
    {
      "cell_type": "code",
      "metadata": {
        "colab": {
          "base_uri": "https://localhost:8080/",
          "height": 206
        },
        "id": "ZOaZqa0sKstR",
        "outputId": "477a614d-fc98-4561-e491-4994a50264f9"
      },
      "source": [
        "data1.head()"
      ],
      "execution_count": null,
      "outputs": [
        {
          "output_type": "execute_result",
          "data": {
            "text/html": [
              "<div>\n",
              "<style scoped>\n",
              "    .dataframe tbody tr th:only-of-type {\n",
              "        vertical-align: middle;\n",
              "    }\n",
              "\n",
              "    .dataframe tbody tr th {\n",
              "        vertical-align: top;\n",
              "    }\n",
              "\n",
              "    .dataframe thead th {\n",
              "        text-align: right;\n",
              "    }\n",
              "</style>\n",
              "<table border=\"1\" class=\"dataframe\">\n",
              "  <thead>\n",
              "    <tr style=\"text-align: right;\">\n",
              "      <th></th>\n",
              "      <th>Add1(in_Thousands)</th>\n",
              "      <th>Add2(in_Thousands)</th>\n",
              "      <th>Add3(in_Thousands)</th>\n",
              "      <th>Add4(in_Thousands)</th>\n",
              "      <th>Add5(in_Thousands)</th>\n",
              "      <th>Profit(in_Thousands)</th>\n",
              "    </tr>\n",
              "  </thead>\n",
              "  <tbody>\n",
              "    <tr>\n",
              "      <th>0</th>\n",
              "      <td>208.00</td>\n",
              "      <td>222.25</td>\n",
              "      <td>206.85</td>\n",
              "      <td>216.00</td>\n",
              "      <td>215.15</td>\n",
              "      <td>4093.065</td>\n",
              "    </tr>\n",
              "    <tr>\n",
              "      <th>1</th>\n",
              "      <td>217.00</td>\n",
              "      <td>218.60</td>\n",
              "      <td>205.90</td>\n",
              "      <td>210.25</td>\n",
              "      <td>209.20</td>\n",
              "      <td>4042.448</td>\n",
              "    </tr>\n",
              "    <tr>\n",
              "      <th>2</th>\n",
              "      <td>223.50</td>\n",
              "      <td>227.80</td>\n",
              "      <td>216.15</td>\n",
              "      <td>217.25</td>\n",
              "      <td>218.20</td>\n",
              "      <td>4213.819</td>\n",
              "    </tr>\n",
              "    <tr>\n",
              "      <th>3</th>\n",
              "      <td>230.00</td>\n",
              "      <td>237.50</td>\n",
              "      <td>225.75</td>\n",
              "      <td>226.45</td>\n",
              "      <td>227.60</td>\n",
              "      <td>4391.665</td>\n",
              "    </tr>\n",
              "    <tr>\n",
              "      <th>4</th>\n",
              "      <td>234.55</td>\n",
              "      <td>234.60</td>\n",
              "      <td>221.05</td>\n",
              "      <td>230.30</td>\n",
              "      <td>230.90</td>\n",
              "      <td>4350.683</td>\n",
              "    </tr>\n",
              "  </tbody>\n",
              "</table>\n",
              "</div>"
            ],
            "text/plain": [
              "   Add1(in_Thousands)  ...  Profit(in_Thousands)\n",
              "0              208.00  ...              4093.065\n",
              "1              217.00  ...              4042.448\n",
              "2              223.50  ...              4213.819\n",
              "3              230.00  ...              4391.665\n",
              "4              234.55  ...              4350.683\n",
              "\n",
              "[5 rows x 6 columns]"
            ]
          },
          "metadata": {},
          "execution_count": 12
        }
      ]
    },
    {
      "cell_type": "markdown",
      "metadata": {
        "id": "_o-9g-t2K_n7"
      },
      "source": [
        "### **1. First of all, check whether there is any relationship between the amount spent for advertising through five different companies and profit generated.**"
      ]
    },
    {
      "cell_type": "code",
      "metadata": {
        "colab": {
          "base_uri": "https://localhost:8080/",
          "height": 380
        },
        "id": "kUEjlkOiK43g",
        "outputId": "74b5833f-5490-4873-8dbd-f06b519c39ed"
      },
      "source": [
        "corrmatrix = data1.corr()\n",
        "plt.subplots(figsize =(10,4))\n",
        "sns.heatmap(corrmatrix ,annot = True , linewidth = 0.2 ,cmap=\"hot_r\")"
      ],
      "execution_count": null,
      "outputs": [
        {
          "output_type": "execute_result",
          "data": {
            "text/plain": [
              "<matplotlib.axes._subplots.AxesSubplot at 0x7f4a0fe8f990>"
            ]
          },
          "metadata": {},
          "execution_count": 19
        },
        {
          "output_type": "display_data",
          "data": {
            "image/png": "[encoded data removed]",
            "text/plain": [
              "<Figure size 720x288 with 2 Axes>"
            ]
          },
          "metadata": {
            "needs_background": "light"
          }
        }
      ]
    },
    {
      "cell_type": "markdown",
      "metadata": {
        "id": "4qFnmnjpPMON"
      },
      "source": [
        " 1)There is strong correlation between Add4 and Add5 , we can keep only one of them .\n",
        "\n",
        "2) All the data ponts have strong positive correlation .\n",
        "\n",
        "3)Profit and Add2 has have positive correlation ."
      ]
    },
    {
      "cell_type": "markdown",
      "metadata": {
        "id": "H-GqT5MQQgnc"
      },
      "source": [
        "# **2. Build a regression model to predict the profit from the given data and comment your findings on it.**"
      ]
    },
    {
      "cell_type": "code",
      "metadata": {
        "id": "biPC0w6mQPPc"
      },
      "source": [
        "x = data1.drop(columns = [\"Add5(in_Thousands)\" ,\"Profit(in_Thousands)\"], axis=1)\n",
        "y = data1[\"Profit(in_Thousands)\"]"
      ],
      "execution_count": null,
      "outputs": []
    },
    {
      "cell_type": "code",
      "metadata": {
        "id": "C2xuwXLqR3fN"
      },
      "source": [
        "from sklearn.model_selection import train_test_split\n",
        "x_train,x_test,y_train,y_test = train_test_split(x,y , random_state = 42 , test_size = 1/3)\n",
        "from sklearn import linear_model\n",
        "lr =linear_model.LinearRegression()"
      ],
      "execution_count": null,
      "outputs": []
    },
    {
      "cell_type": "code",
      "metadata": {
        "id": "Y-pQiMz4Sdxi"
      },
      "source": [
        "model = lr.fit(x_train,y_train)\n",
        "predictions = model.predict(x_test)"
      ],
      "execution_count": null,
      "outputs": []
    },
    {
      "cell_type": "code",
      "metadata": {
        "colab": {
          "base_uri": "https://localhost:8080/"
        },
        "id": "Ogy3MYDBTAzY",
        "outputId": "eeefd018-4108-4a44-d7be-8b0365698073"
      },
      "source": [
        "from sklearn.metrics import mean_squared_error\n",
        "print(\"MSe: \" ,mean_squared_error(y_test , predictions))"
      ],
      "execution_count": null,
      "outputs": [
        {
          "output_type": "stream",
          "name": "stdout",
          "text": [
            "MSe:  0.45258374504474863\n"
          ]
        }
      ]
    },
    {
      "cell_type": "markdown",
      "metadata": {
        "id": "ZaWRv-lCcuUl"
      },
      "source": [
        " MSE is 0.4, It is low and model is performing good\n",
        "\n"
      ]
    },
    {
      "cell_type": "markdown",
      "metadata": {
        "id": "T-ANS2O7e3aS"
      },
      "source": [
        "### **3.Predict the profit generated by the company, if they wish to spend the following amount for advertisement.**\n"
      ]
    },
    {
      "cell_type": "code",
      "metadata": {
        "colab": {
          "base_uri": "https://localhost:8080/",
          "height": 81
        },
        "id": "gDFQ5jJ0fJx9",
        "outputId": "d4480d3c-35b0-496a-d76b-dac84b149051"
      },
      "source": [
        "new_spending = pd.DataFrame({\"Add1(in_Thousands)\": [290] ,\"Add2(in_Thousands)\":[312],\"Add3(in_Thousands)\" :[309], \"Add4(in_Thousands)\" : [298]})\n",
        "new_spending"
      ],
      "execution_count": null,
      "outputs": [
        {
          "output_type": "execute_result",
          "data": {
            "text/html": [
              "<div>\n",
              "<style scoped>\n",
              "    .dataframe tbody tr th:only-of-type {\n",
              "        vertical-align: middle;\n",
              "    }\n",
              "\n",
              "    .dataframe tbody tr th {\n",
              "        vertical-align: top;\n",
              "    }\n",
              "\n",
              "    .dataframe thead th {\n",
              "        text-align: right;\n",
              "    }\n",
              "</style>\n",
              "<table border=\"1\" class=\"dataframe\">\n",
              "  <thead>\n",
              "    <tr style=\"text-align: right;\">\n",
              "      <th></th>\n",
              "      <th>Add1(in_Thousands)</th>\n",
              "      <th>Add2(in_Thousands)</th>\n",
              "      <th>Add3(in_Thousands)</th>\n",
              "      <th>Add4(in_Thousands)</th>\n",
              "    </tr>\n",
              "  </thead>\n",
              "  <tbody>\n",
              "    <tr>\n",
              "      <th>0</th>\n",
              "      <td>290</td>\n",
              "      <td>312</td>\n",
              "      <td>309</td>\n",
              "      <td>298</td>\n",
              "    </tr>\n",
              "  </tbody>\n",
              "</table>\n",
              "</div>"
            ],
            "text/plain": [
              "   Add1(in_Thousands)  ...  Add4(in_Thousands)\n",
              "0                 290  ...                 298\n",
              "\n",
              "[1 rows x 4 columns]"
            ]
          },
          "metadata": {},
          "execution_count": 93
        }
      ]
    },
    {
      "cell_type": "code",
      "metadata": {
        "colab": {
          "base_uri": "https://localhost:8080/"
        },
        "id": "XKUcRsxUh2Gx",
        "outputId": "9798bd9a-9aff-4027-e956-6f68db9209ee"
      },
      "source": [
        "prediction_new = model.predict(new_spending)\n",
        "print(\" Profit predicted is:\" , prediction_new)"
      ],
      "execution_count": null,
      "outputs": [
        {
          "output_type": "stream",
          "name": "stdout",
          "text": [
            "Profit predicted is [5801.7097872]\n"
          ]
        }
      ]
    }
  ]
}